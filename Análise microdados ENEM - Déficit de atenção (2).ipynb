{
 "cells": [
  {
   "cell_type": "markdown",
   "metadata": {},
   "source": [
    "# Análise microdados ENEM - Déficit de atenção"
   ]
  },
  {
   "cell_type": "markdown",
   "metadata": {},
   "source": [
    "### Importando as bibliotecas e criando variáveis para os microdados\n",
    "\n",
    "#### Tempo de execução: 5:00 minutos <br>Intel Core i5 inside <br>8GB DDR3 L <br>Intel graphics 520"
   ]
  },
  {
   "cell_type": "code",
   "execution_count": 2,
   "metadata": {},
   "outputs": [],
   "source": [
    "# importacao de bibliotecas\n",
    "import pandas as pd\n",
    "import matplotlib.pyplot as plt\n",
    "import numpy as np\n",
    "\n",
    "low_memory = False\n",
    "\n",
    "# lendo os arquivos csv\n",
    "microdadosEnem2014 = pd.read_csv('DADOS/MICRODADOS_ENEM_2014.csv', sep=',', encoding='ISO-8859-1', usecols = ['UF_RESIDENCIA', 'UF_PROVA', 'IN_DEFICIT_ATENCAO', 'NU_NOTA_REDACAO'])\n",
    "microdadosEnem2015 = pd.read_csv('DADOS/MICRODADOS_ENEM_2015.csv', sep=',', encoding='ISO-8859-1', usecols = ['SG_UF_RESIDENCIA', 'SG_UF_PROVA', 'IN_DEFICIT_ATENCAO', 'NU_NOTA_REDACAO'])\n",
    "microdadosEnem2016 = pd.read_csv('DADOS/MICRODADOS_ENEM_2016.csv', sep=';', encoding='ISO-8859-1', usecols = ['SG_UF_RESIDENCIA', 'SG_UF_PROVA', 'IN_DEFICIT_ATENCAO', 'NU_NOTA_REDACAO'])\n",
    "microdadosEnem2017 = pd.read_csv('DADOS/MICRODADOS_ENEM_2017.csv', sep=';', encoding='ISO-8859-1', usecols = ['SG_UF_RESIDENCIA', 'SG_UF_PROVA', 'IN_DEFICIT_ATENCAO', 'NU_NOTA_REDACAO'])\n",
    "microdadosEnem2018 = pd.read_csv('DADOS/MICRODADOS_ENEM_2018.csv', sep=';', encoding='ISO-8859-1', usecols = ['SG_UF_RESIDENCIA', 'SG_UF_PROVA', 'IN_DEFICIT_ATENCAO', 'NU_NOTA_REDACAO'])"
   ]
  },
  {
   "cell_type": "markdown",
   "metadata": {},
   "source": [
    "### Criando as variáveis para o gráfico"
   ]
  },
  {
   "cell_type": "code",
   "execution_count": 115,
   "metadata": {},
   "outputs": [],
   "source": [
    "# variaveis para o grafico\n",
    "anos = ['2014', '2015', '2016', '2017', '2018']\n",
    "dados_por_ano = []\n",
    "dados_por_ano_sem_df = []"
   ]
  },
  {
   "cell_type": "markdown",
   "metadata": {},
   "source": [
    "### Consultando a quantidade de candidatos com deficit de atenção"
   ]
  },
  {
   "cell_type": "code",
   "execution_count": 116,
   "metadata": {},
   "outputs": [],
   "source": [
    "# consulta de candidatos com deficit de atencao\n",
    "deficit2014 = microdadosEnem2014.query('(IN_DEFICIT_ATENCAO == 1)')['IN_DEFICIT_ATENCAO'].count()\n",
    "deficit2015 = microdadosEnem2015.query('(IN_DEFICIT_ATENCAO == 1)')['IN_DEFICIT_ATENCAO'].count()\n",
    "deficit2016 = microdadosEnem2016.query('(IN_DEFICIT_ATENCAO == 1)')['IN_DEFICIT_ATENCAO'].count()\n",
    "deficit2017 = microdadosEnem2017.query('(IN_DEFICIT_ATENCAO == 1)')['IN_DEFICIT_ATENCAO'].count()\n",
    "deficit2018 = microdadosEnem2018.query('(IN_DEFICIT_ATENCAO == 1)')['IN_DEFICIT_ATENCAO'].count()"
   ]
  },
  {
   "cell_type": "code",
   "execution_count": 117,
   "metadata": {},
   "outputs": [
    {
     "data": {
      "text/plain": [
       "(4792, 3848, 5300, 7789, 7199)"
      ]
     },
     "execution_count": 117,
     "metadata": {},
     "output_type": "execute_result"
    }
   ],
   "source": [
    "deficit2014, deficit2015, deficit2016, deficit2017, deficit2018"
   ]
  },
  {
   "cell_type": "markdown",
   "metadata": {},
   "source": [
    "### Consultando a quantidade de candidatos sem deficit de atenção"
   ]
  },
  {
   "cell_type": "code",
   "execution_count": 118,
   "metadata": {},
   "outputs": [],
   "source": [
    "# consulta de candidatos sem deficit de atencao\n",
    "deficit2014sdf = microdadosEnem2014.query('(IN_DEFICIT_ATENCAO == 0)')['IN_DEFICIT_ATENCAO'].count()\n",
    "deficit2015sdf = microdadosEnem2015.query('(IN_DEFICIT_ATENCAO == 0)')['IN_DEFICIT_ATENCAO'].count()\n",
    "deficit2016sdf = microdadosEnem2016.query('(IN_DEFICIT_ATENCAO == 0)')['IN_DEFICIT_ATENCAO'].count()\n",
    "deficit2017sdf = microdadosEnem2017.query('(IN_DEFICIT_ATENCAO == 0)')['IN_DEFICIT_ATENCAO'].count()\n",
    "deficit2018sdf = microdadosEnem2018.query('(IN_DEFICIT_ATENCAO == 0)')['IN_DEFICIT_ATENCAO'].count()"
   ]
  },
  {
   "cell_type": "code",
   "execution_count": 119,
   "metadata": {},
   "outputs": [
    {
     "data": {
      "text/plain": [
       "(8717456, 7742579, 8622067, 6723552, 5506548)"
      ]
     },
     "execution_count": 119,
     "metadata": {},
     "output_type": "execute_result"
    }
   ],
   "source": [
    "deficit2014sdf, deficit2015sdf, deficit2016sdf, deficit2017sdf, deficit2018sdf"
   ]
  },
  {
   "cell_type": "markdown",
   "metadata": {},
   "source": [
    "### Adicionando os valores obtidos nas listas"
   ]
  },
  {
   "cell_type": "code",
   "execution_count": 120,
   "metadata": {},
   "outputs": [],
   "source": [
    "# adicionando as consultas na lista dados_por_ano\n",
    "dados_por_ano.append(deficit2014)\n",
    "dados_por_ano.append(deficit2015)\n",
    "dados_por_ano.append(deficit2016)\n",
    "dados_por_ano.append(deficit2017)\n",
    "dados_por_ano.append(deficit2018)"
   ]
  },
  {
   "cell_type": "code",
   "execution_count": 121,
   "metadata": {},
   "outputs": [
    {
     "data": {
      "text/plain": [
       "[4792, 3848, 5300, 7789, 7199]"
      ]
     },
     "execution_count": 121,
     "metadata": {},
     "output_type": "execute_result"
    }
   ],
   "source": [
    "dados_por_ano"
   ]
  },
  {
   "cell_type": "code",
   "execution_count": 122,
   "metadata": {},
   "outputs": [],
   "source": [
    "# adicionando as consultas na lista dados_por_ano_sem_df\n",
    "dados_por_ano_sem_df.append(deficit2014sdf)\n",
    "dados_por_ano_sem_df.append(deficit2015sdf)\n",
    "dados_por_ano_sem_df.append(deficit2016sdf)\n",
    "dados_por_ano_sem_df.append(deficit2017sdf)\n",
    "dados_por_ano_sem_df.append(deficit2018sdf)"
   ]
  },
  {
   "cell_type": "code",
   "execution_count": 123,
   "metadata": {},
   "outputs": [
    {
     "data": {
      "text/plain": [
       "[8717456, 7742579, 8622067, 6723552, 5506548]"
      ]
     },
     "execution_count": 123,
     "metadata": {},
     "output_type": "execute_result"
    }
   ],
   "source": [
    "dados_por_ano_sem_df"
   ]
  },
  {
   "cell_type": "markdown",
   "metadata": {},
   "source": [
    "## Número de candidatos com deficit de atenção ao longo dos anos"
   ]
  },
  {
   "cell_type": "code",
   "execution_count": 224,
   "metadata": {},
   "outputs": [
    {
     "data": {
      "text/plain": [
       "<matplotlib.legend.Legend at 0x18b7d0f52b0>"
      ]
     },
     "execution_count": 224,
     "metadata": {},
     "output_type": "execute_result"
    },
    {
     "data": {
      "image/png": "[encoded data removed]",
      "text/plain": [
       "<Figure size 432x288 with 1 Axes>"
      ]
     },
     "metadata": {
      "needs_background": "light"
     },
     "output_type": "display_data"
    }
   ],
   "source": [
    "plt.bar(anos, dados_por_ano, color='#ff7f27', width=0.50, label='c/ Deficit')\n",
    "plt.ylabel('Candidatos com deficit de atenção')\n",
    "plt.xlabel('Anos')\n",
    "plt.title('Candidatos do ENEM com deficit de atenção')\n",
    "\n",
    "plt.legend()"
   ]
  },
  {
   "cell_type": "markdown",
   "metadata": {},
   "source": [
    "## Número de candidatos sem deficit de atenção ao longo dos anos\n",
    "Devido a diferença entre o número de candidatos, foi necessário criar um segundo gráfico para melhor visualização da diferença entre as quantidades entre pessoas com deficit e sem deficit."
   ]
  },
  {
   "cell_type": "code",
   "execution_count": 225,
   "metadata": {},
   "outputs": [
    {
     "data": {
      "text/plain": [
       "<matplotlib.legend.Legend at 0x18b7d2662b0>"
      ]
     },
     "execution_count": 225,
     "metadata": {},
     "output_type": "execute_result"
    },
    {
     "data": {
      "image/png": "[encoded data removed]",
      "text/plain": [
       "<Figure size 432x288 with 1 Axes>"
      ]
     },
     "metadata": {
      "needs_background": "light"
     },
     "output_type": "display_data"
    }
   ],
   "source": [
    "plt.bar(anos, dados_por_ano_sem_df, color='#6495ED', width=0.50, label='s/ Deficit')\n",
    "plt.ylabel('Candidatos sem deficit de atenção')\n",
    "plt.xlabel('Anos')\n",
    "plt.title('Candidatos do ENEM sem deficit de atenção')\n",
    "\n",
    "plt.legend()"
   ]
  },
  {
   "cell_type": "markdown",
   "metadata": {},
   "source": [
    "# Relação das notas das redações (c/ deficit e s/ deficit)"
   ]
  },
  {
   "cell_type": "code",
   "execution_count": 213,
   "metadata": {},
   "outputs": [],
   "source": [
    "# candidatos com df\n",
    "redacao_por_ano = []"
   ]
  },
  {
   "cell_type": "code",
   "execution_count": 214,
   "metadata": {},
   "outputs": [],
   "source": [
    "# candidatos sem df\n",
    "redacao_por_ano_sem_df = []"
   ]
  },
  {
   "cell_type": "markdown",
   "metadata": {},
   "source": [
    "## Notas Medianas"
   ]
  },
  {
   "cell_type": "code",
   "execution_count": 215,
   "metadata": {},
   "outputs": [],
   "source": [
    "# fazendo a consulta de notas das pessoas c/ deficit\n",
    "redacao2014 = microdadosEnem2014.query('(IN_DEFICIT_ATENCAO == 1 and NU_NOTA_REDACAO)')['NU_NOTA_REDACAO'].mean()\n",
    "redacao2015 = microdadosEnem2015.query('(IN_DEFICIT_ATENCAO == 1 and NU_NOTA_REDACAO)')['NU_NOTA_REDACAO'].mean()\n",
    "redacao2016 = microdadosEnem2016.query('(IN_DEFICIT_ATENCAO == 1 and NU_NOTA_REDACAO)')['NU_NOTA_REDACAO'].mean()\n",
    "redacao2017 = microdadosEnem2017.query('(IN_DEFICIT_ATENCAO == 1 and NU_NOTA_REDACAO)')['NU_NOTA_REDACAO'].mean()\n",
    "redacao2018 = microdadosEnem2018.query('(IN_DEFICIT_ATENCAO == 1 and NU_NOTA_REDACAO)')['NU_NOTA_REDACAO'].mean()"
   ]
  },
  {
   "cell_type": "code",
   "execution_count": 216,
   "metadata": {},
   "outputs": [],
   "source": [
    "redacao_por_ano.append(redacao2014)\n",
    "redacao_por_ano.append(redacao2015)\n",
    "redacao_por_ano.append(redacao2016)\n",
    "redacao_por_ano.append(redacao2017)\n",
    "redacao_por_ano.append(redacao2018)"
   ]
  },
  {
   "cell_type": "code",
   "execution_count": 217,
   "metadata": {},
   "outputs": [
    {
     "data": {
      "text/plain": [
       "[597.4,\n",
       " 668.9846590909091,\n",
       " 673.310692669805,\n",
       " 662.877170622909,\n",
       " 671.902343109946]"
      ]
     },
     "execution_count": 217,
     "metadata": {},
     "output_type": "execute_result"
    }
   ],
   "source": [
    "redacao_por_ano"
   ]
  },
  {
   "cell_type": "code",
   "execution_count": 218,
   "metadata": {},
   "outputs": [],
   "source": [
    "# fazendo a consulta de notas das pessoas s/ deficit\n",
    "redacao2014sdf = microdadosEnem2014.query('(IN_DEFICIT_ATENCAO == 0 and NU_NOTA_REDACAO)')['NU_NOTA_REDACAO'].mean()\n",
    "redacao2015sdf = microdadosEnem2015.query('(IN_DEFICIT_ATENCAO == 0 and NU_NOTA_REDACAO)')['NU_NOTA_REDACAO'].mean()\n",
    "redacao2016sdf = microdadosEnem2016.query('(IN_DEFICIT_ATENCAO == 0 and NU_NOTA_REDACAO)')['NU_NOTA_REDACAO'].mean()\n",
    "redacao2017sdf = microdadosEnem2017.query('(IN_DEFICIT_ATENCAO == 0 and NU_NOTA_REDACAO)')['NU_NOTA_REDACAO'].mean()\n",
    "redacao2018sdf = microdadosEnem2018.query('(IN_DEFICIT_ATENCAO == 0 and NU_NOTA_REDACAO)')['NU_NOTA_REDACAO'].mean()"
   ]
  },
  {
   "cell_type": "code",
   "execution_count": 219,
   "metadata": {},
   "outputs": [],
   "source": [
    "redacao_por_ano_sem_df.append(redacao2014sdf)\n",
    "redacao_por_ano_sem_df.append(redacao2015sdf)\n",
    "redacao_por_ano_sem_df.append(redacao2016sdf)\n",
    "redacao_por_ano_sem_df.append(redacao2017sdf)\n",
    "redacao_por_ano_sem_df.append(redacao2018sdf)"
   ]
  },
  {
   "cell_type": "code",
   "execution_count": 220,
   "metadata": {},
   "outputs": [
    {
     "data": {
      "text/plain": [
       "[581.3305709023941,\n",
       " 541.9724381337455,\n",
       " 542.1498524635513,\n",
       " 558.403625354807,\n",
       " 522.5685460989124]"
      ]
     },
     "execution_count": 220,
     "metadata": {},
     "output_type": "execute_result"
    }
   ],
   "source": [
    "redacao_por_ano_sem_df"
   ]
  },
  {
   "cell_type": "code",
   "execution_count": 221,
   "metadata": {},
   "outputs": [
    {
     "data": {
      "text/plain": [
       "<matplotlib.legend.Legend at 0x18b7d0e0588>"
      ]
     },
     "execution_count": 221,
     "metadata": {},
     "output_type": "execute_result"
    },
    {
     "data": {
      "image/png": "[encoded data removed]",
      "text/plain": [
       "<Figure size 432x288 with 1 Axes>"
      ]
     },
     "metadata": {
      "needs_background": "light"
     },
     "output_type": "display_data"
    }
   ],
   "source": [
    "# redacao_por_ano\n",
    "# redacao_por_ano_sem_df\n",
    "\n",
    "# largura da barra\n",
    "barWidth = 0.25\n",
    "\n",
    "# posicao barra\n",
    "b1 = np.arange(len(redacao_por_ano))\n",
    "b2 = [x + barWidth for x in b1]\n",
    "\n",
    "# criaçao de barras\n",
    "plt.bar(b1, redacao_por_ano, color='#ff7f27', width=barWidth, label='c/ Deficit')\n",
    "plt.bar(b2, redacao_por_ano_sem_df, color='#6495ED', width=barWidth, label='s/ Deficit')\n",
    "\n",
    "# legenda\n",
    "plt.xlabel('Anos')\n",
    "plt.xticks([b + barWidth for b in range(len(redacao_por_ano))], anos)\n",
    "plt.ylabel('Notas - Médias')\n",
    "plt.title('Médias das notas de redação')\n",
    "\n",
    "plt.legend()"
   ]
  },
  {
   "cell_type": "markdown",
   "metadata": {},
   "source": [
    "### Média das notas de todos os anos"
   ]
  },
  {
   "cell_type": "code",
   "execution_count": 223,
   "metadata": {
    "scrolled": true
   },
   "outputs": [
    {
     "name": "stdout",
     "output_type": "stream",
     "text": [
      "A média de notas medianas entre os anos avaliados é de 654.8949730987138 pontos.\n"
     ]
    }
   ],
   "source": [
    "from statistics import mean\n",
    "\n",
    "print(f'A média de notas medianas entre os anos avaliados é de {mean(redacao_por_ano)} pontos.')"
   ]
  },
  {
   "cell_type": "code",
   "execution_count": null,
   "metadata": {},
   "outputs": [],
   "source": []
  }
 ],
 "metadata": {
  "kernelspec": {
   "display_name": "Python 3",
   "language": "python",
   "name": "python3"
  },
  "language_info": {
   "codemirror_mode": {
    "name": "ipython",
    "version": 3
   },
   "file_extension": ".py",
   "mimetype": "text/x-python",
   "name": "python",
   "nbconvert_exporter": "python",
   "pygments_lexer": "ipython3",
   "version": "3.6.0"
  }
 },
 "nbformat": 4,
 "nbformat_minor": 2
}
